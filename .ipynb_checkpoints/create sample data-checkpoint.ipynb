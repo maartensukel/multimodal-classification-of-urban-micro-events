{
 "cells": [
  {
   "cell_type": "code",
   "execution_count": null,
   "metadata": {},
   "outputs": [],
   "source": [
    "\n",
    "def load_sia():\n",
    "    '''\n",
    "    Load data from SIA daily dump\n",
    "    '''\n",
    "    \n",
    "    # load .csv's\n",
    "    df = pd.read_csv(path+'signals.csv')\n",
    "    categories = pd.read_csv(path+'categories.csv')\n",
    "    locations = pd.read_csv(path+'locations.csv')\n",
    "\n",
    "    # merge\n",
    "    df = pd.read_csv(path+'signals.csv')\n",
    "    \n",
    "    categories = categories.drop_duplicates('_signal_id',keep='last').set_index('_signal_id')\n",
    "    cat_main = categories['main'].to_dict()\n",
    "    cat_sub = categories['sub'].to_dict()\n",
    "    df['main'] = df['id'].map(lambda x: cat_main[x])\n",
    "    df['sub'] = df['id'].map(lambda x: cat_sub[x])\n",
    "    \n",
    "    locations = locations.drop_duplicates('_signal_id',keep='last').set_index('_signal_id')\n",
    "    cat_lat = locations['lat'].to_dict()\n",
    "    cat_lng = locations['lng'].to_dict()\n",
    "    df['lat'] = df['id'].map(lambda x: cat_lat[x])\n",
    "    df['lng'] = df['id'].map(lambda x: cat_lng[x])\n",
    "        \n",
    "    return df.drop_duplicates('id',keep='last')[['main','sub','text','created_at','lat','lng']]\n",
    "\n",
    "path = '/home/maarten/Documents/SIA/data/'\n",
    "sia = load_sia()\n",
    "sia\n",
    "\n",
    "import pandas as pd\n",
    "import random\n",
    "\n",
    "df = pd.read_csv('example_data.csv')\n",
    "\n",
    "def get_random(label,column):\n",
    "    return random.choice(list(sia[sia['main']==label][column]))\n",
    "  \n",
    "for column in ['lat','lng','created_at']:\n",
    "    df[column] = df['Label'].map(lambda x: get_random(x,column))\n",
    "    \n",
    "df.to_csv('example_data.csv')"
   ]
  }
 ],
 "metadata": {
  "kernelspec": {
   "display_name": "Python 3",
   "language": "python",
   "name": "python3"
  },
  "language_info": {
   "codemirror_mode": {
    "name": "ipython",
    "version": 3
   },
   "file_extension": ".py",
   "mimetype": "text/x-python",
   "name": "python",
   "nbconvert_exporter": "python",
   "pygments_lexer": "ipython3",
   "version": "3.6.5"
  }
 },
 "nbformat": 4,
 "nbformat_minor": 2
}
